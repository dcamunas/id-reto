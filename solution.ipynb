{
 "cells": [
  {
   "cell_type": "markdown",
   "metadata": {},
   "source": [
    "# Reto Idealista\n",
    "**Autor:** *David Camuñas*\n",
    "\n"
   ]
  },
  {
   "cell_type": "markdown",
   "metadata": {},
   "source": [
    "Previamente instalar las dependencias del proyecto, puede hacerse ejecutando la siguiente línea o de forma manual mediante el comando:\n",
    "```\n",
    "$ sh setup.sh\n",
    "```"
   ]
  },
  {
   "cell_type": "markdown",
   "metadata": {},
   "source": [
    "## 1. (5%) Obtener el fichero usando la librería `requests`"
   ]
  },
  {
   "cell_type": "code",
   "execution_count": 10,
   "metadata": {},
   "outputs": [
    {
     "name": "stdout",
     "output_type": "stream",
     "text": [
      "[X] Status code: 200\n"
     ]
    }
   ],
   "source": [
    "from requests import get as rget\n",
    "\n",
    "def get_web_file(url):\n",
    "    \"\"\"\n",
    "    Función para obtener el fichero web.\n",
    "    \"\"\"\n",
    "    file = rget(url)\n",
    "    print(\"[X] Status code: \" + str(file.status_code))\n",
    "    return file\n",
    "\n",
    "if __name__ == \"__main__\":\n",
    "    file = get_web_file(\"https://gist.github.com/juanriaza/9b6f7ab3fc1cbda81100fa5d32512fd8/raw/a61db2d8d81789d5c7040eacee7b225bc2b2aa7f/data.csv.bz2\")\n",
    "    \n",
    "    # Guardar en el directorio files el fichero web descargado\n",
    "    open(\"./data.csv.bz2\", 'wb').write(file.content)"
   ]
  },
  {
   "cell_type": "markdown",
   "metadata": {},
   "source": [
    "---------------"
   ]
  },
  {
   "cell_type": "markdown",
   "metadata": {},
   "source": [
    "## 3. (15%) Usando línea de comandos importar los datos de dicho fichero en una base de datos que resida en un fichero SQLite. [TIP](https://www.sqlite.org/cli.html#csv)  \n",
    "\n",
    "### 1. Descomprimir archivo .bz2 y extraerlo en el directorio actual.    \n",
    "```\n",
    "    $ bzip2 -d data.csv.bz2\n",
    "```\n",
    "    \n",
    "### 2. Crear y seleccionar base de datos SQLite (id_data.db).\n",
    "```\n",
    "    $ sqlite3 id_data.db\n",
    "```\n",
    "\n",
    "### 3. Una vez dentro de la linea de comandos de SQLITE importar el csv a la nueva base de datos\n",
    "```\n",
    "    $ .import ./data.csv tab_principal\n",
    "```"
   ]
  },
  {
   "cell_type": "markdown",
   "metadata": {},
   "source": [
    "Finalmente borrar el fichero csv, ya que no se utilizará en los siguientes apartados. Las consultas se realizarán a la base de datos creada"
   ]
  },
  {
   "cell_type": "code",
   "execution_count": null,
   "metadata": {},
   "outputs": [],
   "source": [
    "cmd('rm data.csv')"
   ]
  },
  {
   "cell_type": "markdown",
   "metadata": {},
   "source": [
    "-------------------------"
   ]
  },
  {
   "cell_type": "markdown",
   "metadata": {},
   "source": [
    "## 4. (30%) Usando la librería `sqlite3` deberás responder a las siguientes preguntas mediante queries SQL:"
   ]
  },
  {
   "cell_type": "markdown",
   "metadata": {},
   "source": [
    "### Función para establecer conexión con base de datos (id_data.db)"
   ]
  },
  {
   "cell_type": "code",
   "execution_count": 11,
   "metadata": {},
   "outputs": [],
   "source": [
    "import sqlite3 as sqlite\n",
    "\n",
    "sql_db = 'id_data.db'\n",
    "connection = sqlite.connect(sql_db)\n",
    "cursor = connection.cursor()"
   ]
  },
  {
   "cell_type": "markdown",
   "metadata": {},
   "source": [
    "### Función utilizada para la realización de consultas"
   ]
  },
  {
   "cell_type": "code",
   "execution_count": 12,
   "metadata": {},
   "outputs": [],
   "source": [
    "def my_sql_query(query):\n",
    "    cursor.execute(query)\n",
    "    for row in cursor.fetchall():\n",
    "        print(row)"
   ]
  },
  {
   "cell_type": "markdown",
   "metadata": {},
   "source": [
    "* ### Número de inmuebles en alquiler que tiene cada cliente profesional por código postal"
   ]
  },
  {
   "cell_type": "code",
   "execution_count": null,
   "metadata": {},
   "outputs": [],
   "source": [
    "my_sql_query('select customer_id, zipcode, count(*) from tab_principal where is_professional=1 and transaction_type=\"rent\" group by customer_id, zipcode')"
   ]
  },
  {
   "cell_type": "markdown",
   "metadata": {},
   "source": [
    "* ### Obtén los siguientes códigos postales de la ciudad de Barcelona:"
   ]
  },
  {
   "cell_type": "markdown",
   "metadata": {},
   "source": [
    "* #### Código postal del precio por metro cuadrado más barato\n",
    "En este caso el número de inmuebles más barato son varios debido a que si se analiza el precio por área de las pisos, varíos su precio tiene el mismo valor que su área. Además, en este caso como en el siguiente no se diferencia si el inmueble se vende o se alquila, ya que no se específica en el enunciado.\n"
   ]
  },
  {
   "cell_type": "code",
   "execution_count": 17,
   "metadata": {},
   "outputs": [
    {
     "name": "stdout",
     "output_type": "stream",
     "text": [
      "('08004',)\n",
      "('08028',)\n",
      "('08024',)\n",
      "('08005',)\n",
      "('08012',)\n",
      "('08010',)\n",
      "('08015',)\n",
      "('08018',)\n",
      "('08013',)\n",
      "('08014',)\n",
      "('08003',)\n",
      "('08731',)\n"
     ]
    }
   ],
   "source": [
    "my_sql_query('create view price_area(customer_id, zipcode, pr_m2) as select customer_id, zipcode, price/area from tab_principal where city like(\"%Barcelona%\") and price!=0 and area!=0 group by customer_id, zipcode')\n",
    "my_sql_query('select distinct zipcode from price_area where pr_m2 in(select min(pr_m2) from price_area)')\n"
   ]
  },
  {
   "cell_type": "markdown",
   "metadata": {},
   "source": [
    "* #### Código postal del precio por metro cuadrado más caro\n"
   ]
  },
  {
   "cell_type": "code",
   "execution_count": 37,
   "metadata": {},
   "outputs": [
    {
     "name": "stdout",
     "output_type": "stream",
     "text": [
      "('39323032373531343335333136', '08027')\n"
     ]
    }
   ],
   "source": [
    "my_sql_query('select distinct customer_id, zipcode from price_area where pr_m2 in(select max(pr_m2) from price_area)')\n"
   ]
  },
  {
   "cell_type": "markdown",
   "metadata": {},
   "source": [
    "* ### Cliente profesional que tiene la cartera de inmuebles más envejecida\n",
    "Se entiende como: realizar la suma de todas las fechas en las que cada cliente han añadido el anuncio del inmueble, y el cliente que en su totalidad de anuncios añadidos disponga de la fecha más antigua (min), será el resultado."
   ]
  },
  {
   "cell_type": "code",
   "execution_count": 48,
   "metadata": {},
   "outputs": [
    {
     "name": "stdout",
     "output_type": "stream",
     "text": [
      "('39323032373532363535363035',)\n",
      "('39323032373533343431303938',)\n"
     ]
    }
   ],
   "source": [
    "#my_sql_query('create view customer_dates(customer_id, total_dates) as select customer_id, sum(date_added) from tab_principal where is_professional=1 group by customer_id')\n",
    "my_sql_query('select customer_id from customer_dates where total_dates in(select min(total_dates) from customer_dates)')"
   ]
  },
  {
   "cell_type": "markdown",
   "metadata": {},
   "source": [
    "* ### En qué ciudad se encuentra el terreno urbanizable más caro?\n",
    "En este caso, el resultado son varias ciudades, debido a que el precio del terreno más caro es el mismo en todas ellas."
   ]
  },
  {
   "cell_type": "code",
   "execution_count": 33,
   "metadata": {},
   "outputs": [
    {
     "name": "stdout",
     "output_type": "stream",
     "text": [
      "('Cubelles',)\n",
      "('Esparreguera',)\n",
      "('Vic',)\n"
     ]
    }
   ],
   "source": [
    "my_sql_query('select city from tab_principal where price in (select max(price) from tab_principal) and subtypology like(\"%Terreno Urbanizable%\")')"
   ]
  },
  {
   "cell_type": "markdown",
   "metadata": {},
   "source": [
    "---------------------"
   ]
  },
  {
   "cell_type": "markdown",
   "metadata": {},
   "source": [
    "## 5. (35%) Realiza los mismos ejercicios del apartado 4 utilizando la librería `pandas`"
   ]
  },
  {
   "cell_type": "markdown",
   "metadata": {},
   "source": [
    "Importar libreria pandas"
   ]
  },
  {
   "cell_type": "code",
   "execution_count": 2,
   "metadata": {},
   "outputs": [],
   "source": [
    "import pandas as pd\n",
    "import sqlite3 as sqlite\n",
    "\n",
    "sql_db = 'id_data.db'\n",
    "connetion = sqlite.connect(sql_db)"
   ]
  },
  {
   "cell_type": "markdown",
   "metadata": {},
   "source": [
    "### Mostrar dataframe de la tabla principal de la base de datos"
   ]
  },
  {
   "cell_type": "code",
   "execution_count": 3,
   "metadata": {},
   "outputs": [
    {
     "data": {
      "text/html": [
       "<div>\n",
       "<style scoped>\n",
       "    .dataframe tbody tr th:only-of-type {\n",
       "        vertical-align: middle;\n",
       "    }\n",
       "\n",
       "    .dataframe tbody tr th {\n",
       "        vertical-align: top;\n",
       "    }\n",
       "\n",
       "    .dataframe thead th {\n",
       "        text-align: right;\n",
       "    }\n",
       "</style>\n",
       "<table border=\"1\" class=\"dataframe\">\n",
       "  <thead>\n",
       "    <tr style=\"text-align: right;\">\n",
       "      <th></th>\n",
       "      <th>customer_id</th>\n",
       "      <th>city</th>\n",
       "      <th>typology</th>\n",
       "      <th>subtypology</th>\n",
       "      <th>transaction_type</th>\n",
       "      <th>price</th>\n",
       "      <th>zipcode</th>\n",
       "      <th>bedrooms</th>\n",
       "      <th>bathrooms</th>\n",
       "      <th>area</th>\n",
       "      <th>area_land</th>\n",
       "      <th>is_professional</th>\n",
       "      <th>date_added</th>\n",
       "    </tr>\n",
       "  </thead>\n",
       "  <tbody>\n",
       "    <tr>\n",
       "      <th>0</th>\n",
       "      <td>39323032373531333936323630</td>\n",
       "      <td>Barcelona Capital</td>\n",
       "      <td>Vivienda</td>\n",
       "      <td>Dúplex</td>\n",
       "      <td>sale</td>\n",
       "      <td>320000</td>\n",
       "      <td>08038</td>\n",
       "      <td>2</td>\n",
       "      <td>2</td>\n",
       "      <td>91</td>\n",
       "      <td>0</td>\n",
       "      <td>1</td>\n",
       "      <td>2012-05-18T12:26:00</td>\n",
       "    </tr>\n",
       "    <tr>\n",
       "      <th>1</th>\n",
       "      <td>39323032373532323235313938</td>\n",
       "      <td>Barcelona Capital</td>\n",
       "      <td>Vivienda</td>\n",
       "      <td>Piso</td>\n",
       "      <td>rent</td>\n",
       "      <td>5000</td>\n",
       "      <td>08034</td>\n",
       "      <td>5</td>\n",
       "      <td>3</td>\n",
       "      <td>0</td>\n",
       "      <td>0</td>\n",
       "      <td>1</td>\n",
       "      <td>2014-04-01T11:23:00</td>\n",
       "    </tr>\n",
       "    <tr>\n",
       "      <th>2</th>\n",
       "      <td>39323032373534303438333537</td>\n",
       "      <td>Barcelona Capital</td>\n",
       "      <td>Oficina</td>\n",
       "      <td></td>\n",
       "      <td>rent</td>\n",
       "      <td>75</td>\n",
       "      <td>08017</td>\n",
       "      <td>0</td>\n",
       "      <td>0</td>\n",
       "      <td>50</td>\n",
       "      <td>0</td>\n",
       "      <td>1</td>\n",
       "      <td>2014-06-02T09:38:00</td>\n",
       "    </tr>\n",
       "    <tr>\n",
       "      <th>3</th>\n",
       "      <td>39323032373531373435393038</td>\n",
       "      <td>Dosrius</td>\n",
       "      <td>Terreno</td>\n",
       "      <td>Terreno Urbanizable</td>\n",
       "      <td>sale</td>\n",
       "      <td>75000</td>\n",
       "      <td>08319</td>\n",
       "      <td>0</td>\n",
       "      <td>0</td>\n",
       "      <td>740</td>\n",
       "      <td>0</td>\n",
       "      <td>0</td>\n",
       "      <td>2014-12-11T00:01:00</td>\n",
       "    </tr>\n",
       "    <tr>\n",
       "      <th>4</th>\n",
       "      <td>39323032373534353337323338</td>\n",
       "      <td>Barcelona Capital</td>\n",
       "      <td>Oficina</td>\n",
       "      <td></td>\n",
       "      <td>rent</td>\n",
       "      <td>3520</td>\n",
       "      <td>08029</td>\n",
       "      <td>0</td>\n",
       "      <td>0</td>\n",
       "      <td>160</td>\n",
       "      <td>0</td>\n",
       "      <td>1</td>\n",
       "      <td>2015-04-08T10:26:00</td>\n",
       "    </tr>\n",
       "    <tr>\n",
       "      <th>...</th>\n",
       "      <td>...</td>\n",
       "      <td>...</td>\n",
       "      <td>...</td>\n",
       "      <td>...</td>\n",
       "      <td>...</td>\n",
       "      <td>...</td>\n",
       "      <td>...</td>\n",
       "      <td>...</td>\n",
       "      <td>...</td>\n",
       "      <td>...</td>\n",
       "      <td>...</td>\n",
       "      <td>...</td>\n",
       "      <td>...</td>\n",
       "    </tr>\n",
       "    <tr>\n",
       "      <th>122369</th>\n",
       "      <td>393433303033303138363338</td>\n",
       "      <td>Pineda de Mar</td>\n",
       "      <td>Vivienda</td>\n",
       "      <td>Piso</td>\n",
       "      <td>sale</td>\n",
       "      <td>145000</td>\n",
       "      <td>08397</td>\n",
       "      <td>3</td>\n",
       "      <td>1</td>\n",
       "      <td>85</td>\n",
       "      <td>0</td>\n",
       "      <td>1</td>\n",
       "      <td>2019-12-05T17:47:00</td>\n",
       "    </tr>\n",
       "    <tr>\n",
       "      <th>122370</th>\n",
       "      <td>39323032373531333735313830</td>\n",
       "      <td>Olesa de Montserrat</td>\n",
       "      <td>Vivienda</td>\n",
       "      <td>Piso</td>\n",
       "      <td>sale</td>\n",
       "      <td>195000</td>\n",
       "      <td>08640</td>\n",
       "      <td>3</td>\n",
       "      <td>2</td>\n",
       "      <td>103</td>\n",
       "      <td>0</td>\n",
       "      <td>1</td>\n",
       "      <td>2019-12-05T20:47:00</td>\n",
       "    </tr>\n",
       "    <tr>\n",
       "      <th>122371</th>\n",
       "      <td>39323032373632343634333535</td>\n",
       "      <td>Montesquiu</td>\n",
       "      <td>Vivienda</td>\n",
       "      <td>Piso</td>\n",
       "      <td>sale</td>\n",
       "      <td>83400</td>\n",
       "      <td>08585</td>\n",
       "      <td>2</td>\n",
       "      <td>1</td>\n",
       "      <td>100</td>\n",
       "      <td>0</td>\n",
       "      <td>1</td>\n",
       "      <td>2019-12-06T06:16:00</td>\n",
       "    </tr>\n",
       "    <tr>\n",
       "      <th>122372</th>\n",
       "      <td>39323032373631383234353237</td>\n",
       "      <td>L'Hospitalet de Llobregat</td>\n",
       "      <td>Vivienda</td>\n",
       "      <td>Ático</td>\n",
       "      <td>sale</td>\n",
       "      <td>385000</td>\n",
       "      <td>08902</td>\n",
       "      <td>3</td>\n",
       "      <td>2</td>\n",
       "      <td>132</td>\n",
       "      <td>0</td>\n",
       "      <td>1</td>\n",
       "      <td>2019-12-06T13:18:00</td>\n",
       "    </tr>\n",
       "    <tr>\n",
       "      <th>122373</th>\n",
       "      <td>39323032373633373632363233</td>\n",
       "      <td>Montcada i Reixac</td>\n",
       "      <td>Vivienda</td>\n",
       "      <td>Piso</td>\n",
       "      <td>sale</td>\n",
       "      <td>235000</td>\n",
       "      <td>08110</td>\n",
       "      <td>4</td>\n",
       "      <td>2</td>\n",
       "      <td>120</td>\n",
       "      <td>0</td>\n",
       "      <td>0</td>\n",
       "      <td>2019-12-08T00:23:00</td>\n",
       "    </tr>\n",
       "  </tbody>\n",
       "</table>\n",
       "<p>122374 rows × 13 columns</p>\n",
       "</div>"
      ],
      "text/plain": [
       "                       customer_id                       city  typology  \\\n",
       "0       39323032373531333936323630          Barcelona Capital  Vivienda   \n",
       "1       39323032373532323235313938          Barcelona Capital  Vivienda   \n",
       "2       39323032373534303438333537          Barcelona Capital   Oficina   \n",
       "3       39323032373531373435393038                    Dosrius   Terreno   \n",
       "4       39323032373534353337323338          Barcelona Capital   Oficina   \n",
       "...                            ...                        ...       ...   \n",
       "122369    393433303033303138363338              Pineda de Mar  Vivienda   \n",
       "122370  39323032373531333735313830        Olesa de Montserrat  Vivienda   \n",
       "122371  39323032373632343634333535                 Montesquiu  Vivienda   \n",
       "122372  39323032373631383234353237  L'Hospitalet de Llobregat  Vivienda   \n",
       "122373  39323032373633373632363233          Montcada i Reixac  Vivienda   \n",
       "\n",
       "                subtypology transaction_type   price zipcode bedrooms  \\\n",
       "0                    Dúplex             sale  320000   08038        2   \n",
       "1                      Piso             rent    5000   08034        5   \n",
       "2                                       rent      75   08017        0   \n",
       "3       Terreno Urbanizable             sale   75000   08319        0   \n",
       "4                                       rent    3520   08029        0   \n",
       "...                     ...              ...     ...     ...      ...   \n",
       "122369                 Piso             sale  145000   08397        3   \n",
       "122370                 Piso             sale  195000   08640        3   \n",
       "122371                 Piso             sale   83400   08585        2   \n",
       "122372                Ático             sale  385000   08902        3   \n",
       "122373                 Piso             sale  235000   08110        4   \n",
       "\n",
       "       bathrooms area area_land is_professional           date_added  \n",
       "0              2   91         0               1  2012-05-18T12:26:00  \n",
       "1              3    0         0               1  2014-04-01T11:23:00  \n",
       "2              0   50         0               1  2014-06-02T09:38:00  \n",
       "3              0  740         0               0  2014-12-11T00:01:00  \n",
       "4              0  160         0               1  2015-04-08T10:26:00  \n",
       "...          ...  ...       ...             ...                  ...  \n",
       "122369         1   85         0               1  2019-12-05T17:47:00  \n",
       "122370         2  103         0               1  2019-12-05T20:47:00  \n",
       "122371         1  100         0               1  2019-12-06T06:16:00  \n",
       "122372         2  132         0               1  2019-12-06T13:18:00  \n",
       "122373         2  120         0               0  2019-12-08T00:23:00  \n",
       "\n",
       "[122374 rows x 13 columns]"
      ]
     },
     "execution_count": 3,
     "metadata": {},
     "output_type": "execute_result"
    }
   ],
   "source": [
    "data_df = pd.read_sql('SELECT * FROM tab_principal', connetion)\n",
    "data_df"
   ]
  },
  {
   "cell_type": "markdown",
   "metadata": {},
   "source": [
    "* ### Número de inmuebles en alquiler que tiene cada cliente profesional por código postal"
   ]
  },
  {
   "cell_type": "code",
   "execution_count": 49,
   "metadata": {},
   "outputs": [
    {
     "data": {
      "text/html": [
       "<div>\n",
       "<style scoped>\n",
       "    .dataframe tbody tr th:only-of-type {\n",
       "        vertical-align: middle;\n",
       "    }\n",
       "\n",
       "    .dataframe tbody tr th {\n",
       "        vertical-align: top;\n",
       "    }\n",
       "\n",
       "    .dataframe thead th {\n",
       "        text-align: right;\n",
       "    }\n",
       "</style>\n",
       "<table border=\"1\" class=\"dataframe\">\n",
       "  <thead>\n",
       "    <tr style=\"text-align: right;\">\n",
       "      <th></th>\n",
       "      <th>customer_id</th>\n",
       "      <th>zipcode</th>\n",
       "      <th>properties</th>\n",
       "    </tr>\n",
       "  </thead>\n",
       "  <tbody>\n",
       "    <tr>\n",
       "      <th>0</th>\n",
       "      <td>393030303830303030333431</td>\n",
       "      <td>08950</td>\n",
       "      <td>2</td>\n",
       "    </tr>\n",
       "    <tr>\n",
       "      <th>1</th>\n",
       "      <td>393030303830303030333431</td>\n",
       "      <td>08960</td>\n",
       "      <td>8</td>\n",
       "    </tr>\n",
       "    <tr>\n",
       "      <th>2</th>\n",
       "      <td>393030303830303030333431</td>\n",
       "      <td>08970</td>\n",
       "      <td>1</td>\n",
       "    </tr>\n",
       "    <tr>\n",
       "      <th>3</th>\n",
       "      <td>393030313430303030323137</td>\n",
       "      <td>08001</td>\n",
       "      <td>1</td>\n",
       "    </tr>\n",
       "    <tr>\n",
       "      <th>4</th>\n",
       "      <td>393030313430303030323137</td>\n",
       "      <td>08003</td>\n",
       "      <td>1</td>\n",
       "    </tr>\n",
       "    <tr>\n",
       "      <th>...</th>\n",
       "      <td>...</td>\n",
       "      <td>...</td>\n",
       "      <td>...</td>\n",
       "    </tr>\n",
       "    <tr>\n",
       "      <th>6775</th>\n",
       "      <td>393433303033313033373236</td>\n",
       "      <td>08339</td>\n",
       "      <td>1</td>\n",
       "    </tr>\n",
       "    <tr>\n",
       "      <th>6776</th>\n",
       "      <td>393433303033313033373236</td>\n",
       "      <td>08349</td>\n",
       "      <td>1</td>\n",
       "    </tr>\n",
       "    <tr>\n",
       "      <th>6777</th>\n",
       "      <td>393433303033313033373236</td>\n",
       "      <td>08358</td>\n",
       "      <td>2</td>\n",
       "    </tr>\n",
       "    <tr>\n",
       "      <th>6778</th>\n",
       "      <td>393433303033313033373236</td>\n",
       "      <td>08360</td>\n",
       "      <td>1</td>\n",
       "    </tr>\n",
       "    <tr>\n",
       "      <th>6779</th>\n",
       "      <td>393433303033313033373236</td>\n",
       "      <td>08394</td>\n",
       "      <td>4</td>\n",
       "    </tr>\n",
       "  </tbody>\n",
       "</table>\n",
       "<p>6780 rows × 3 columns</p>\n",
       "</div>"
      ],
      "text/plain": [
       "                   customer_id zipcode  properties\n",
       "0     393030303830303030333431   08950           2\n",
       "1     393030303830303030333431   08960           8\n",
       "2     393030303830303030333431   08970           1\n",
       "3     393030313430303030323137   08001           1\n",
       "4     393030313430303030323137   08003           1\n",
       "...                        ...     ...         ...\n",
       "6775  393433303033313033373236   08339           1\n",
       "6776  393433303033313033373236   08349           1\n",
       "6777  393433303033313033373236   08358           2\n",
       "6778  393433303033313033373236   08360           1\n",
       "6779  393433303033313033373236   08394           4\n",
       "\n",
       "[6780 rows x 3 columns]"
      ]
     },
     "execution_count": 49,
     "metadata": {},
     "output_type": "execute_result"
    }
   ],
   "source": [
    "query = 'select customer_id, zipcode, count(*) as properties from tab_principal where is_professional=1 and transaction_type=\"rent\" group by customer_id, zipcode'\n",
    "clients_zipcode_df = pd.read_sql(query, connetion)\n",
    "clients_zipcode_df"
   ]
  },
  {
   "cell_type": "markdown",
   "metadata": {},
   "source": [
    "* ### Obtén los siguientes códigos postales de la ciudad de Barcelona:\n",
    "* #### Código postal del precio por metro cuadrado más barato"
   ]
  },
  {
   "cell_type": "code",
   "execution_count": 20,
   "metadata": {},
   "outputs": [
    {
     "data": {
      "text/html": [
       "<div>\n",
       "<style scoped>\n",
       "    .dataframe tbody tr th:only-of-type {\n",
       "        vertical-align: middle;\n",
       "    }\n",
       "\n",
       "    .dataframe tbody tr th {\n",
       "        vertical-align: top;\n",
       "    }\n",
       "\n",
       "    .dataframe thead th {\n",
       "        text-align: right;\n",
       "    }\n",
       "</style>\n",
       "<table border=\"1\" class=\"dataframe\">\n",
       "  <thead>\n",
       "    <tr style=\"text-align: right;\">\n",
       "      <th></th>\n",
       "      <th>zipcode</th>\n",
       "    </tr>\n",
       "  </thead>\n",
       "  <tbody>\n",
       "    <tr>\n",
       "      <th>0</th>\n",
       "      <td>08004</td>\n",
       "    </tr>\n",
       "    <tr>\n",
       "      <th>1</th>\n",
       "      <td>08028</td>\n",
       "    </tr>\n",
       "    <tr>\n",
       "      <th>2</th>\n",
       "      <td>08024</td>\n",
       "    </tr>\n",
       "    <tr>\n",
       "      <th>3</th>\n",
       "      <td>08005</td>\n",
       "    </tr>\n",
       "    <tr>\n",
       "      <th>4</th>\n",
       "      <td>08012</td>\n",
       "    </tr>\n",
       "    <tr>\n",
       "      <th>5</th>\n",
       "      <td>08010</td>\n",
       "    </tr>\n",
       "    <tr>\n",
       "      <th>6</th>\n",
       "      <td>08015</td>\n",
       "    </tr>\n",
       "    <tr>\n",
       "      <th>7</th>\n",
       "      <td>08018</td>\n",
       "    </tr>\n",
       "    <tr>\n",
       "      <th>8</th>\n",
       "      <td>08013</td>\n",
       "    </tr>\n",
       "    <tr>\n",
       "      <th>9</th>\n",
       "      <td>08014</td>\n",
       "    </tr>\n",
       "    <tr>\n",
       "      <th>10</th>\n",
       "      <td>08003</td>\n",
       "    </tr>\n",
       "    <tr>\n",
       "      <th>11</th>\n",
       "      <td>08731</td>\n",
       "    </tr>\n",
       "  </tbody>\n",
       "</table>\n",
       "</div>"
      ],
      "text/plain": [
       "   zipcode\n",
       "0    08004\n",
       "1    08028\n",
       "2    08024\n",
       "3    08005\n",
       "4    08012\n",
       "5    08010\n",
       "6    08015\n",
       "7    08018\n",
       "8    08013\n",
       "9    08014\n",
       "10   08003\n",
       "11   08731"
      ]
     },
     "execution_count": 20,
     "metadata": {},
     "output_type": "execute_result"
    }
   ],
   "source": [
    "query = 'select distinct zipcode from price_area where pr_m2 in(select min(pr_m2) from price_area)'\n",
    "ziprice_min_df = pd.read_sql(query, connection)\n",
    "ziprice_min_df"
   ]
  },
  {
   "cell_type": "markdown",
   "metadata": {},
   "source": [
    "* #### Código postal del precio por metro cuadrado más barato"
   ]
  },
  {
   "cell_type": "code",
   "execution_count": 21,
   "metadata": {},
   "outputs": [
    {
     "data": {
      "text/html": [
       "<div>\n",
       "<style scoped>\n",
       "    .dataframe tbody tr th:only-of-type {\n",
       "        vertical-align: middle;\n",
       "    }\n",
       "\n",
       "    .dataframe tbody tr th {\n",
       "        vertical-align: top;\n",
       "    }\n",
       "\n",
       "    .dataframe thead th {\n",
       "        text-align: right;\n",
       "    }\n",
       "</style>\n",
       "<table border=\"1\" class=\"dataframe\">\n",
       "  <thead>\n",
       "    <tr style=\"text-align: right;\">\n",
       "      <th></th>\n",
       "      <th>zipcode</th>\n",
       "    </tr>\n",
       "  </thead>\n",
       "  <tbody>\n",
       "    <tr>\n",
       "      <th>0</th>\n",
       "      <td>08020</td>\n",
       "    </tr>\n",
       "  </tbody>\n",
       "</table>\n",
       "</div>"
      ],
      "text/plain": [
       "  zipcode\n",
       "0   08020"
      ]
     },
     "execution_count": 21,
     "metadata": {},
     "output_type": "execute_result"
    }
   ],
   "source": [
    "query = 'select distinct zipcode from price_area where pr_m2 in(select max(pr_m2) from price_area)'\n",
    "ziprice_max_df = pd.read_sql(query, connection)\n",
    "ziprice_max_df"
   ]
  },
  {
   "cell_type": "markdown",
   "metadata": {},
   "source": [
    "* ### Cliente profesional que tiene la cartera de inmuebles más envejecida\n"
   ]
  },
  {
   "cell_type": "code",
   "execution_count": 45,
   "metadata": {},
   "outputs": [
    {
     "data": {
      "text/html": [
       "<div>\n",
       "<style scoped>\n",
       "    .dataframe tbody tr th:only-of-type {\n",
       "        vertical-align: middle;\n",
       "    }\n",
       "\n",
       "    .dataframe tbody tr th {\n",
       "        vertical-align: top;\n",
       "    }\n",
       "\n",
       "    .dataframe thead th {\n",
       "        text-align: right;\n",
       "    }\n",
       "</style>\n",
       "<table border=\"1\" class=\"dataframe\">\n",
       "  <thead>\n",
       "    <tr style=\"text-align: right;\">\n",
       "      <th></th>\n",
       "      <th>customer_id</th>\n",
       "    </tr>\n",
       "  </thead>\n",
       "  <tbody>\n",
       "    <tr>\n",
       "      <th>0</th>\n",
       "      <td>39323032373532363535363035</td>\n",
       "    </tr>\n",
       "    <tr>\n",
       "      <th>1</th>\n",
       "      <td>39323032373533343431303938</td>\n",
       "    </tr>\n",
       "  </tbody>\n",
       "</table>\n",
       "</div>"
      ],
      "text/plain": [
       "                  customer_id\n",
       "0  39323032373532363535363035\n",
       "1  39323032373533343431303938"
      ]
     },
     "execution_count": 45,
     "metadata": {},
     "output_type": "execute_result"
    }
   ],
   "source": [
    "query ='select customer_id from customer_dates where total_dates in(select min(total_dates) from customer_dates)'\n",
    "custom_old_df = pd.read_sql(query, connection)\n",
    "custom_old_df\n"
   ]
  },
  {
   "cell_type": "markdown",
   "metadata": {},
   "source": [
    "* ### En qué ciudad se encuentra el terreno urbanizable más caro?\n"
   ]
  },
  {
   "cell_type": "code",
   "execution_count": 47,
   "metadata": {},
   "outputs": [
    {
     "data": {
      "text/html": [
       "<div>\n",
       "<style scoped>\n",
       "    .dataframe tbody tr th:only-of-type {\n",
       "        vertical-align: middle;\n",
       "    }\n",
       "\n",
       "    .dataframe tbody tr th {\n",
       "        vertical-align: top;\n",
       "    }\n",
       "\n",
       "    .dataframe thead th {\n",
       "        text-align: right;\n",
       "    }\n",
       "</style>\n",
       "<table border=\"1\" class=\"dataframe\">\n",
       "  <thead>\n",
       "    <tr style=\"text-align: right;\">\n",
       "      <th></th>\n",
       "      <th>city</th>\n",
       "    </tr>\n",
       "  </thead>\n",
       "  <tbody>\n",
       "    <tr>\n",
       "      <th>0</th>\n",
       "      <td>Cubelles</td>\n",
       "    </tr>\n",
       "    <tr>\n",
       "      <th>1</th>\n",
       "      <td>Esparreguera</td>\n",
       "    </tr>\n",
       "    <tr>\n",
       "      <th>2</th>\n",
       "      <td>Vic</td>\n",
       "    </tr>\n",
       "  </tbody>\n",
       "</table>\n",
       "</div>"
      ],
      "text/plain": [
       "           city\n",
       "0      Cubelles\n",
       "1  Esparreguera\n",
       "2           Vic"
      ]
     },
     "execution_count": 47,
     "metadata": {},
     "output_type": "execute_result"
    }
   ],
   "source": [
    "query = 'select city from tab_principal where price in (select max(price) from tab_principal) and subtypology like(\"%Terreno Urbanizable%\")'\n",
    "expensive_land_df = pd.read_sql(query, connection)\n",
    "expensive_land_df"
   ]
  },
  {
   "cell_type": "markdown",
   "metadata": {},
   "source": [
    "----------------"
   ]
  },
  {
   "cell_type": "markdown",
   "metadata": {},
   "source": [
    "## 6. (10%) Un inversor quiere saber por código postal qué propiedades son interesantes. Añade al dataframe de `pandas` las siguientes columnas:\n",
    "* over_valued (0/1)\n",
    "* normal(0/1)\n",
    "* under_valued (0/1)"
   ]
  },
  {
   "cell_type": "code",
   "execution_count": 4,
   "metadata": {},
   "outputs": [
    {
     "data": {
      "text/html": [
       "<div>\n",
       "<style scoped>\n",
       "    .dataframe tbody tr th:only-of-type {\n",
       "        vertical-align: middle;\n",
       "    }\n",
       "\n",
       "    .dataframe tbody tr th {\n",
       "        vertical-align: top;\n",
       "    }\n",
       "\n",
       "    .dataframe thead th {\n",
       "        text-align: right;\n",
       "    }\n",
       "</style>\n",
       "<table border=\"1\" class=\"dataframe\">\n",
       "  <thead>\n",
       "    <tr style=\"text-align: right;\">\n",
       "      <th></th>\n",
       "      <th>customer_id</th>\n",
       "      <th>city</th>\n",
       "      <th>typology</th>\n",
       "      <th>subtypology</th>\n",
       "      <th>transaction_type</th>\n",
       "      <th>price</th>\n",
       "      <th>zipcode</th>\n",
       "      <th>bedrooms</th>\n",
       "      <th>bathrooms</th>\n",
       "      <th>area</th>\n",
       "      <th>area_land</th>\n",
       "      <th>is_professional</th>\n",
       "      <th>date_added</th>\n",
       "      <th>over_valued</th>\n",
       "      <th>normal</th>\n",
       "      <th>under_valued</th>\n",
       "    </tr>\n",
       "  </thead>\n",
       "  <tbody>\n",
       "    <tr>\n",
       "      <th>0</th>\n",
       "      <td>39323032373531333936323630</td>\n",
       "      <td>Barcelona Capital</td>\n",
       "      <td>Vivienda</td>\n",
       "      <td>Dúplex</td>\n",
       "      <td>sale</td>\n",
       "      <td>320000</td>\n",
       "      <td>08038</td>\n",
       "      <td>2</td>\n",
       "      <td>2</td>\n",
       "      <td>91</td>\n",
       "      <td>0</td>\n",
       "      <td>1</td>\n",
       "      <td>2012-05-18T12:26:00</td>\n",
       "      <td>1</td>\n",
       "      <td>0</td>\n",
       "      <td>1</td>\n",
       "    </tr>\n",
       "    <tr>\n",
       "      <th>1</th>\n",
       "      <td>39323032373532323235313938</td>\n",
       "      <td>Barcelona Capital</td>\n",
       "      <td>Vivienda</td>\n",
       "      <td>Piso</td>\n",
       "      <td>rent</td>\n",
       "      <td>5000</td>\n",
       "      <td>08034</td>\n",
       "      <td>5</td>\n",
       "      <td>3</td>\n",
       "      <td>0</td>\n",
       "      <td>0</td>\n",
       "      <td>1</td>\n",
       "      <td>2014-04-01T11:23:00</td>\n",
       "      <td>0</td>\n",
       "      <td>1</td>\n",
       "      <td>1</td>\n",
       "    </tr>\n",
       "    <tr>\n",
       "      <th>2</th>\n",
       "      <td>39323032373534303438333537</td>\n",
       "      <td>Barcelona Capital</td>\n",
       "      <td>Oficina</td>\n",
       "      <td></td>\n",
       "      <td>rent</td>\n",
       "      <td>75</td>\n",
       "      <td>08017</td>\n",
       "      <td>0</td>\n",
       "      <td>0</td>\n",
       "      <td>50</td>\n",
       "      <td>0</td>\n",
       "      <td>1</td>\n",
       "      <td>2014-06-02T09:38:00</td>\n",
       "      <td>1</td>\n",
       "      <td>0</td>\n",
       "      <td>0</td>\n",
       "    </tr>\n",
       "    <tr>\n",
       "      <th>3</th>\n",
       "      <td>39323032373531373435393038</td>\n",
       "      <td>Dosrius</td>\n",
       "      <td>Terreno</td>\n",
       "      <td>Terreno Urbanizable</td>\n",
       "      <td>sale</td>\n",
       "      <td>75000</td>\n",
       "      <td>08319</td>\n",
       "      <td>0</td>\n",
       "      <td>0</td>\n",
       "      <td>740</td>\n",
       "      <td>0</td>\n",
       "      <td>0</td>\n",
       "      <td>2014-12-11T00:01:00</td>\n",
       "      <td>1</td>\n",
       "      <td>0</td>\n",
       "      <td>0</td>\n",
       "    </tr>\n",
       "    <tr>\n",
       "      <th>4</th>\n",
       "      <td>39323032373534353337323338</td>\n",
       "      <td>Barcelona Capital</td>\n",
       "      <td>Oficina</td>\n",
       "      <td></td>\n",
       "      <td>rent</td>\n",
       "      <td>3520</td>\n",
       "      <td>08029</td>\n",
       "      <td>0</td>\n",
       "      <td>0</td>\n",
       "      <td>160</td>\n",
       "      <td>0</td>\n",
       "      <td>1</td>\n",
       "      <td>2015-04-08T10:26:00</td>\n",
       "      <td>1</td>\n",
       "      <td>0</td>\n",
       "      <td>0</td>\n",
       "    </tr>\n",
       "    <tr>\n",
       "      <th>...</th>\n",
       "      <td>...</td>\n",
       "      <td>...</td>\n",
       "      <td>...</td>\n",
       "      <td>...</td>\n",
       "      <td>...</td>\n",
       "      <td>...</td>\n",
       "      <td>...</td>\n",
       "      <td>...</td>\n",
       "      <td>...</td>\n",
       "      <td>...</td>\n",
       "      <td>...</td>\n",
       "      <td>...</td>\n",
       "      <td>...</td>\n",
       "      <td>...</td>\n",
       "      <td>...</td>\n",
       "      <td>...</td>\n",
       "    </tr>\n",
       "    <tr>\n",
       "      <th>122369</th>\n",
       "      <td>393433303033303138363338</td>\n",
       "      <td>Pineda de Mar</td>\n",
       "      <td>Vivienda</td>\n",
       "      <td>Piso</td>\n",
       "      <td>sale</td>\n",
       "      <td>145000</td>\n",
       "      <td>08397</td>\n",
       "      <td>3</td>\n",
       "      <td>1</td>\n",
       "      <td>85</td>\n",
       "      <td>0</td>\n",
       "      <td>1</td>\n",
       "      <td>2019-12-05T17:47:00</td>\n",
       "      <td>1</td>\n",
       "      <td>1</td>\n",
       "      <td>1</td>\n",
       "    </tr>\n",
       "    <tr>\n",
       "      <th>122370</th>\n",
       "      <td>39323032373531333735313830</td>\n",
       "      <td>Olesa de Montserrat</td>\n",
       "      <td>Vivienda</td>\n",
       "      <td>Piso</td>\n",
       "      <td>sale</td>\n",
       "      <td>195000</td>\n",
       "      <td>08640</td>\n",
       "      <td>3</td>\n",
       "      <td>2</td>\n",
       "      <td>103</td>\n",
       "      <td>0</td>\n",
       "      <td>1</td>\n",
       "      <td>2019-12-05T20:47:00</td>\n",
       "      <td>1</td>\n",
       "      <td>0</td>\n",
       "      <td>0</td>\n",
       "    </tr>\n",
       "    <tr>\n",
       "      <th>122371</th>\n",
       "      <td>39323032373632343634333535</td>\n",
       "      <td>Montesquiu</td>\n",
       "      <td>Vivienda</td>\n",
       "      <td>Piso</td>\n",
       "      <td>sale</td>\n",
       "      <td>83400</td>\n",
       "      <td>08585</td>\n",
       "      <td>2</td>\n",
       "      <td>1</td>\n",
       "      <td>100</td>\n",
       "      <td>0</td>\n",
       "      <td>1</td>\n",
       "      <td>2019-12-06T06:16:00</td>\n",
       "      <td>0</td>\n",
       "      <td>0</td>\n",
       "      <td>1</td>\n",
       "    </tr>\n",
       "    <tr>\n",
       "      <th>122372</th>\n",
       "      <td>39323032373631383234353237</td>\n",
       "      <td>L'Hospitalet de Llobregat</td>\n",
       "      <td>Vivienda</td>\n",
       "      <td>Ático</td>\n",
       "      <td>sale</td>\n",
       "      <td>385000</td>\n",
       "      <td>08902</td>\n",
       "      <td>3</td>\n",
       "      <td>2</td>\n",
       "      <td>132</td>\n",
       "      <td>0</td>\n",
       "      <td>1</td>\n",
       "      <td>2019-12-06T13:18:00</td>\n",
       "      <td>1</td>\n",
       "      <td>1</td>\n",
       "      <td>1</td>\n",
       "    </tr>\n",
       "    <tr>\n",
       "      <th>122373</th>\n",
       "      <td>39323032373633373632363233</td>\n",
       "      <td>Montcada i Reixac</td>\n",
       "      <td>Vivienda</td>\n",
       "      <td>Piso</td>\n",
       "      <td>sale</td>\n",
       "      <td>235000</td>\n",
       "      <td>08110</td>\n",
       "      <td>4</td>\n",
       "      <td>2</td>\n",
       "      <td>120</td>\n",
       "      <td>0</td>\n",
       "      <td>0</td>\n",
       "      <td>2019-12-08T00:23:00</td>\n",
       "      <td>0</td>\n",
       "      <td>1</td>\n",
       "      <td>0</td>\n",
       "    </tr>\n",
       "  </tbody>\n",
       "</table>\n",
       "<p>122374 rows × 16 columns</p>\n",
       "</div>"
      ],
      "text/plain": [
       "                       customer_id                       city  typology  \\\n",
       "0       39323032373531333936323630          Barcelona Capital  Vivienda   \n",
       "1       39323032373532323235313938          Barcelona Capital  Vivienda   \n",
       "2       39323032373534303438333537          Barcelona Capital   Oficina   \n",
       "3       39323032373531373435393038                    Dosrius   Terreno   \n",
       "4       39323032373534353337323338          Barcelona Capital   Oficina   \n",
       "...                            ...                        ...       ...   \n",
       "122369    393433303033303138363338              Pineda de Mar  Vivienda   \n",
       "122370  39323032373531333735313830        Olesa de Montserrat  Vivienda   \n",
       "122371  39323032373632343634333535                 Montesquiu  Vivienda   \n",
       "122372  39323032373631383234353237  L'Hospitalet de Llobregat  Vivienda   \n",
       "122373  39323032373633373632363233          Montcada i Reixac  Vivienda   \n",
       "\n",
       "                subtypology transaction_type   price zipcode bedrooms  \\\n",
       "0                    Dúplex             sale  320000   08038        2   \n",
       "1                      Piso             rent    5000   08034        5   \n",
       "2                                       rent      75   08017        0   \n",
       "3       Terreno Urbanizable             sale   75000   08319        0   \n",
       "4                                       rent    3520   08029        0   \n",
       "...                     ...              ...     ...     ...      ...   \n",
       "122369                 Piso             sale  145000   08397        3   \n",
       "122370                 Piso             sale  195000   08640        3   \n",
       "122371                 Piso             sale   83400   08585        2   \n",
       "122372                Ático             sale  385000   08902        3   \n",
       "122373                 Piso             sale  235000   08110        4   \n",
       "\n",
       "       bathrooms area area_land is_professional           date_added  \\\n",
       "0              2   91         0               1  2012-05-18T12:26:00   \n",
       "1              3    0         0               1  2014-04-01T11:23:00   \n",
       "2              0   50         0               1  2014-06-02T09:38:00   \n",
       "3              0  740         0               0  2014-12-11T00:01:00   \n",
       "4              0  160         0               1  2015-04-08T10:26:00   \n",
       "...          ...  ...       ...             ...                  ...   \n",
       "122369         1   85         0               1  2019-12-05T17:47:00   \n",
       "122370         2  103         0               1  2019-12-05T20:47:00   \n",
       "122371         1  100         0               1  2019-12-06T06:16:00   \n",
       "122372         2  132         0               1  2019-12-06T13:18:00   \n",
       "122373         2  120         0               0  2019-12-08T00:23:00   \n",
       "\n",
       "        over_valued  normal  under_valued  \n",
       "0                 1       0             1  \n",
       "1                 0       1             1  \n",
       "2                 1       0             0  \n",
       "3                 1       0             0  \n",
       "4                 1       0             0  \n",
       "...             ...     ...           ...  \n",
       "122369            1       1             1  \n",
       "122370            1       0             0  \n",
       "122371            0       0             1  \n",
       "122372            1       1             1  \n",
       "122373            0       1             0  \n",
       "\n",
       "[122374 rows x 16 columns]"
      ]
     },
     "execution_count": 4,
     "metadata": {},
     "output_type": "execute_result"
    }
   ],
   "source": [
    "import random\n",
    "\n",
    "new_data_df = data_df.assign(over_valued=pd.Series(random.choices([0,1], k=len(data_df))).values, normal=pd.Series(random.choices([0,1], k=len(data_df))).values, under_valued=pd.Series(random.choices([0,1], k=len(data_df))).values)\n",
    "new_data_df"
   ]
  },
  {
   "cell_type": "markdown",
   "metadata": {},
   "source": [
    "### Qué código postal tiene el mayor número de \"chollos\"?"
   ]
  },
  {
   "cell_type": "code",
   "execution_count": 45,
   "metadata": {},
   "outputs": [
    {
     "data": {
      "text/html": [
       "<div>\n",
       "<style scoped>\n",
       "    .dataframe tbody tr th:only-of-type {\n",
       "        vertical-align: middle;\n",
       "    }\n",
       "\n",
       "    .dataframe tbody tr th {\n",
       "        vertical-align: top;\n",
       "    }\n",
       "\n",
       "    .dataframe thead th {\n",
       "        text-align: right;\n",
       "    }\n",
       "</style>\n",
       "<table border=\"1\" class=\"dataframe\">\n",
       "  <thead>\n",
       "    <tr style=\"text-align: right;\">\n",
       "      <th></th>\n",
       "      <th>under_valued</th>\n",
       "    </tr>\n",
       "    <tr>\n",
       "      <th>zipcode</th>\n",
       "      <th></th>\n",
       "    </tr>\n",
       "  </thead>\n",
       "  <tbody>\n",
       "    <tr>\n",
       "      <th>08870</th>\n",
       "      <td>1086</td>\n",
       "    </tr>\n",
       "  </tbody>\n",
       "</table>\n",
       "</div>"
      ],
      "text/plain": [
       "         under_valued\n",
       "zipcode              \n",
       "08870            1086"
      ]
     },
     "execution_count": 45,
     "metadata": {},
     "output_type": "execute_result"
    }
   ],
   "source": [
    "import numpy as np\n",
    "by_zipcode_sum = new_data_df.groupby(['zipcode']).agg({'under_valued':np.sum})\n",
    "by_zipcode_sum[by_zipcode_sum.under_valued==int(by_zipcode_sum.agg({'under_valued':np.max}))]\n"
   ]
  },
  {
   "cell_type": "markdown",
   "metadata": {},
   "source": [
    "## 7. (5%) Guarda el nuevo dataframe del anterior apartado en un fichero json comprimido con gzip\n"
   ]
  },
  {
   "cell_type": "markdown",
   "metadata": {},
   "source": [
    "### Primera forma"
   ]
  },
  {
   "cell_type": "code",
   "execution_count": null,
   "metadata": {},
   "outputs": [],
   "source": [
    "import gzip\n",
    "from os import system as cmd\n",
    "\n",
    "new_data_df.to_json('./data.json', orient='table')\n",
    "file_in = open('./data.json', 'rb')\n",
    "file_out = open('./data.json.gz', 'wb')\n",
    "file_out.write(gzip.compress(file_in.read()))\n",
    "file_out.close()\n",
    "file_in.close()\n",
    "\n",
    "cmd('rm data.json')"
   ]
  }
 ],
 "metadata": {
  "interpreter": {
   "hash": "7f249253c77e0d65eedf93787aa4b832ec1188f25468e745276b10a45951d70e"
  },
  "kernelspec": {
   "display_name": "Python 3.8.5 64-bit ('venv': venv)",
   "name": "python3"
  },
  "language_info": {
   "codemirror_mode": {
    "name": "ipython",
    "version": 3
   },
   "file_extension": ".py",
   "mimetype": "text/x-python",
   "name": "python",
   "nbconvert_exporter": "python",
   "pygments_lexer": "ipython3",
   "version": "3.8.5"
  },
  "orig_nbformat": 4
 },
 "nbformat": 4,
 "nbformat_minor": 2
}